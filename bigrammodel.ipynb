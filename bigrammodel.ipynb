{
 "cells": [
  {
   "cell_type": "code",
   "execution_count": 1,
   "id": "88bc4dcd",
   "metadata": {},
   "outputs": [],
   "source": [
    "import torch\n",
    "import numpy as np\n",
    "import torch.nn.functional as f"
   ]
  },
  {
   "cell_type": "code",
   "execution_count": 177,
   "id": "8832b095",
   "metadata": {},
   "outputs": [],
   "source": [
    "words = open('/Users/nithinbharathi/Desktop/gitrepo/wordgen/Names.txt','r').read().splitlines()\n",
    "chars = '.abcdefghijklmnopqrstuvwxyz'\n",
    "torch.set_default_dtype(torch.float64)\n",
    "chartoint = {key:i for i,key in enumerate(chars)}\n"
   ]
  },
  {
   "cell_type": "code",
   "execution_count": 178,
   "id": "ca1f4c7f",
   "metadata": {},
   "outputs": [],
   "source": [
    "#training set\n",
    "\n",
    "x=[]\n",
    "y=[]\n",
    "for word in words[:1]:\n",
    "    current_word = '.'+word+'.'\n",
    "    for c1,c2 in zip(current_word,current_word[1:]):\n",
    "        x.append(chartoint[c1])\n",
    "        y.append(chartoint[c2])\n",
    "x = torch.tensor(x)\n",
    "y = torch.tensor(y)"
   ]
  },
  {
   "cell_type": "code",
   "execution_count": 179,
   "id": "ceb7ab63",
   "metadata": {},
   "outputs": [],
   "source": [
    "#preprocess\n",
    "\n",
    "x = f.one_hot(x,27)\n",
    "x = x.reshape(x.shape[1],-1).to(torch.float64)"
   ]
  },
  {
   "cell_type": "code",
   "execution_count": 181,
   "id": "99752895",
   "metadata": {},
   "outputs": [],
   "source": [
    "#initialization\n",
    "\n",
    "w = torch.randn(27,x.shape[0],requires_grad = True)\n",
    "b = torch.randn(27,1,requires_grad = True)"
   ]
  },
  {
   "cell_type": "code",
   "execution_count": 198,
   "id": "95c12d8d",
   "metadata": {},
   "outputs": [],
   "source": [
    "#forward\n",
    "\n",
    "z = w@x+b\n",
    "exp = torch.exp(z)\n",
    "softmax = exp/torch.sum(exp,1,keepdims = True)\n",
    "loss = -softmax[y,torch.arange(0,x.shape[1])].log().mean()"
   ]
  },
  {
   "cell_type": "code",
   "execution_count": 199,
   "id": "85c41e12",
   "metadata": {},
   "outputs": [],
   "source": [
    "#backward\n",
    "\n",
    "w.grad = None\n",
    "b.grad = None\n",
    "loss.backward()\n",
    "w.data = w.data - 0.01*w.grad\n",
    "b.data = b.data - 0.01*b.grad"
   ]
  }
 ],
 "metadata": {
  "kernelspec": {
   "display_name": "Python 3 (ipykernel)",
   "language": "python",
   "name": "python3"
  },
  "language_info": {
   "codemirror_mode": {
    "name": "ipython",
    "version": 3
   },
   "file_extension": ".py",
   "mimetype": "text/x-python",
   "name": "python",
   "nbconvert_exporter": "python",
   "pygments_lexer": "ipython3",
   "version": "3.10.10"
  }
 },
 "nbformat": 4,
 "nbformat_minor": 5
}
