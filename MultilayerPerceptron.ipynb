{
 "cells": [
  {
   "cell_type": "code",
   "execution_count": 1,
   "id": "0e58427f",
   "metadata": {},
   "outputs": [],
   "source": [
    "import torch\n",
    "import torch.nn.functional as f\n",
    "import matplotlib.pyplot as plt"
   ]
  },
  {
   "cell_type": "code",
   "execution_count": 2,
   "id": "4f2a4b0e",
   "metadata": {},
   "outputs": [],
   "source": [
    "words = open('/Users/nithinbharathi/Desktop/Names.txt').read().splitlines()\n",
    "torch.set_default_dtype(torch.float64)"
   ]
  },
  {
   "cell_type": "code",
   "execution_count": 3,
   "id": "f38ea6bb",
   "metadata": {},
   "outputs": [],
   "source": [
    "chars = '.abcdefghijklmnopqrstuvwxyz'\n",
    "chartoint ={val:key for key,val in enumerate(chars)}"
   ]
  },
  {
   "cell_type": "code",
   "execution_count": 4,
   "id": "5a590ce7",
   "metadata": {},
   "outputs": [],
   "source": [
    "#preparing dataset\n",
    "inp = []\n",
    "out = []\n",
    "sz = 3\n",
    "cur = [0]*sz\n",
    "for word in words[:1]:\n",
    "    for char in word+'.':\n",
    "        int_val = [chartoint[char]]\n",
    "        inp.append(cur);\n",
    "        out.append(int_val)\n",
    "        cur = cur[1:]+int_val"
   ]
  },
  {
   "cell_type": "code",
   "execution_count": 5,
   "id": "d6e93e93",
   "metadata": {},
   "outputs": [],
   "source": [
    "#input dataset\n",
    "x = torch.tensor(inp)\n",
    "y = torch.tensor(out)"
   ]
  },
  {
   "cell_type": "code",
   "execution_count": 6,
   "id": "cf92ef33",
   "metadata": {},
   "outputs": [],
   "source": [
    "#embeddings for the words\n",
    "C = torch.randn(27,2)\n",
    "embeddings = C[x]\n",
    "embeddings = embeddings.reshape(x.shape[0],-1).T"
   ]
  },
  {
   "cell_type": "code",
   "execution_count": 148,
   "id": "c14068cf",
   "metadata": {},
   "outputs": [],
   "source": [
    "#weights initialization\n",
    "w1 = torch.randn(50,6,requires_grad = True)\n",
    "b1 = torch.randn(50,1,requires_grad = True)\n",
    "w2 = torch.randn(27,50,requires_grad = True)\n",
    "b2 = torch.randn(27,1,requires_grad = True)"
   ]
  },
  {
   "cell_type": "code",
   "execution_count": 157,
   "id": "02a7b9b0",
   "metadata": {},
   "outputs": [
    {
     "data": {
      "text/plain": [
       "tensor(22.0443, grad_fn=<NegBackward0>)"
      ]
     },
     "execution_count": 157,
     "metadata": {},
     "output_type": "execute_result"
    }
   ],
   "source": [
    "#forward\n",
    "z1 = w1@embeddings+b1\n",
    "tanh = torch.tanh(z1)\n",
    "z2 = w2@tanh + b2\n",
    "exp = torch.exp(z2)\n",
    "softmax = exp/torch.sum(exp,1,keepdims = True)\n",
    "loss = -softmax[y,torch.arange(0,5)].log().mean()\n",
    "loss"
   ]
  },
  {
   "cell_type": "code",
   "execution_count": 156,
   "id": "abe33189",
   "metadata": {},
   "outputs": [],
   "source": [
    "#backward\n",
    "w1.grad = None\n",
    "w2.grad = None\n",
    "b1.grad = None\n",
    "b2.grad = None\n",
    "loss.backward()\n",
    "w1.data-= 0.01*w1.grad\n",
    "w2.data-=0.01*w2.grad\n",
    "b1.data-=0.01*b1.grad\n",
    "b2.data-=0.01*b2.grad"
   ]
  },
  {
   "cell_type": "code",
   "execution_count": 9,
   "id": "f1aec340",
   "metadata": {},
   "outputs": [
    {
     "data": {
      "text/plain": [
       "(torch.Size([5, 3]),\n",
       " tensor([[ 0,  0,  0],\n",
       "         [ 0,  0,  5],\n",
       "         [ 0,  5, 13],\n",
       "         [ 5, 13, 13],\n",
       "         [13, 13,  1]]))"
      ]
     },
     "execution_count": 9,
     "metadata": {},
     "output_type": "execute_result"
    }
   ],
   "source": [
    "x.shape,x"
   ]
  },
  {
   "cell_type": "code",
   "execution_count": 11,
   "id": "4840467d",
   "metadata": {},
   "outputs": [
    {
     "data": {
      "text/plain": [
       "torch.Size([5, 3, 2])"
      ]
     },
     "execution_count": 11,
     "metadata": {},
     "output_type": "execute_result"
    }
   ],
   "source": [
    "C[x].shape"
   ]
  },
  {
   "cell_type": "code",
   "execution_count": null,
   "id": "bb49ce96",
   "metadata": {},
   "outputs": [],
   "source": []
  }
 ],
 "metadata": {
  "kernelspec": {
   "display_name": "Python 3 (ipykernel)",
   "language": "python",
   "name": "python3"
  },
  "language_info": {
   "codemirror_mode": {
    "name": "ipython",
    "version": 3
   },
   "file_extension": ".py",
   "mimetype": "text/x-python",
   "name": "python",
   "nbconvert_exporter": "python",
   "pygments_lexer": "ipython3",
   "version": "3.10.10"
  }
 },
 "nbformat": 4,
 "nbformat_minor": 5
}
