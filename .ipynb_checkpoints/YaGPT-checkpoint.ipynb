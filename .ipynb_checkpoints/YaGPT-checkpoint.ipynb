{
 "cells": [
  {
   "cell_type": "code",
   "execution_count": 1,
   "id": "46d4d755-c1d5-453f-9bbd-f670ad933c89",
   "metadata": {},
   "outputs": [],
   "source": [
    "with open('input.txt', 'r') as input_file:\n",
    "    text = input_file.read()"
   ]
  },
  {
   "cell_type": "code",
   "execution_count": 2,
   "id": "d6ac2bb3-b213-4d07-9844-892f65c8b1bc",
   "metadata": {},
   "outputs": [
    {
     "name": "stdout",
     "output_type": "stream",
     "text": [
      "\n",
      " !$&',-.3:;?ABCDEFGHIJKLMNOPQRSTUVWXYZabcdefghijklmnopqrstuvwxyz\n",
      "65\n"
     ]
    }
   ],
   "source": [
    "unique_chars = sorted(list(set(text)))\n",
    "vocab_size = len(unique_chars)\n",
    "print(''.join(unique_chars))\n",
    "print(len(unique_chars))"
   ]
  },
  {
   "cell_type": "code",
   "execution_count": 3,
   "id": "c69da69d-cde1-4ce7-a75e-5cd41bf5a6b9",
   "metadata": {},
   "outputs": [
    {
     "name": "stdout",
     "output_type": "stream",
     "text": [
      "[46, 43, 50, 50, 53]\n",
      "hello\n"
     ]
    }
   ],
   "source": [
    "ctoi = { char:ind for ind,char in enumerate(unique_chars)}\n",
    "itoc = {ind:char for ind,char in enumerate(unique_chars)}\n",
    "\n",
    "encode = lambda s: [ctoi[z] for z in s]\n",
    "decode = lambda i: ''.join(itoc[z] for z in i)\n",
    "\n",
    "print(encode('hello'))\n",
    "print(decode(encode('hello')))"
   ]
  },
  {
   "cell_type": "code",
   "execution_count": 4,
   "id": "d042f4fb-2bbd-4c19-be06-4dbb28996a6d",
   "metadata": {},
   "outputs": [
    {
     "name": "stderr",
     "output_type": "stream",
     "text": [
      "/Library/Frameworks/Python.framework/Versions/3.10/lib/python3.10/site-packages/tqdm/auto.py:21: TqdmWarning: IProgress not found. Please update jupyter and ipywidgets. See https://ipywidgets.readthedocs.io/en/stable/user_install.html\n",
      "  from .autonotebook import tqdm as notebook_tqdm\n"
     ]
    }
   ],
   "source": [
    "import torch"
   ]
  },
  {
   "cell_type": "code",
   "execution_count": 5,
   "id": "92c3c4ad-32a0-4830-b3ca-12caf57dc52e",
   "metadata": {},
   "outputs": [
    {
     "data": {
      "text/plain": [
       "tensor([18, 47, 56, 57, 58,  1, 15, 47, 58, 47, 64, 43, 52, 10,  0, 14, 43, 44,\n",
       "        53, 56, 43,  1, 61, 43,  1, 54, 56, 53, 41, 43, 43, 42,  1, 39, 52, 63,\n",
       "         1, 44, 59, 56, 58, 46, 43, 56,  6,  1, 46, 43, 39, 56,  1, 51, 43,  1,\n",
       "        57, 54, 43, 39, 49,  8,  0,  0, 13, 50, 50, 10,  0, 31, 54, 43, 39, 49,\n",
       "         6,  1, 57, 54, 43, 39, 49,  8,  0,  0, 18, 47, 56, 57, 58,  1, 15, 47,\n",
       "        58, 47, 64, 43, 52, 10,  0, 37, 53, 59])"
      ]
     },
     "execution_count": 5,
     "metadata": {},
     "output_type": "execute_result"
    }
   ],
   "source": [
    "data = torch.tensor(encode(text), dtype = torch.long)\n",
    "data[:100]"
   ]
  },
  {
   "cell_type": "code",
   "execution_count": 6,
   "id": "63618755-c61b-4afc-8ff7-a9da965d4d04",
   "metadata": {},
   "outputs": [],
   "source": [
    "# train and test split. we are considering 90% of the data as our training data.\n",
    "\n",
    "factor = int(0.9 * len(data))\n",
    "train = data[:factor]\n",
    "val = data[factor:]"
   ]
  },
  {
   "cell_type": "code",
   "execution_count": 7,
   "id": "7fde04bb-7f00-4c0d-81ed-f21913dd023f",
   "metadata": {},
   "outputs": [
    {
     "name": "stdout",
     "output_type": "stream",
     "text": [
      "tensor([18, 47, 56, 57, 58,  1, 15, 47]) \n",
      "\n"
     ]
    }
   ],
   "source": [
    "blk = 8\n",
    "print(train[:blk],'\\n')\n",
    "\n",
    "def get_targets(mat, tar, block_size):\n",
    "    for _ in range(block_size):\n",
    "        context = mat[:_+1]\n",
    "        target = tar[_]\n",
    "        print(f'context:{context}',f'target: {target}\\n')\n"
   ]
  },
  {
   "cell_type": "code",
   "execution_count": 8,
   "id": "97581f65-b08e-40ff-964e-64bb0f007498",
   "metadata": {},
   "outputs": [
    {
     "data": {
      "text/plain": [
       "(torch.Size([4, 8]),\n",
       " torch.Size([4, 8]),\n",
       " tensor([[24, 43, 58,  5, 57,  1, 46, 43],\n",
       "         [44, 53, 56,  1, 58, 46, 39, 58],\n",
       "         [52, 58,  1, 58, 46, 39, 58,  1],\n",
       "         [25, 17, 27, 10,  0, 21,  1, 54]]),\n",
       " tensor([[43, 58,  5, 57,  1, 46, 43, 39],\n",
       "         [53, 56,  1, 58, 46, 39, 58,  1],\n",
       "         [58,  1, 58, 46, 39, 58,  1, 46],\n",
       "         [17, 27, 10,  0, 21,  1, 54, 39]]))"
      ]
     },
     "execution_count": 8,
     "metadata": {},
     "output_type": "execute_result"
    }
   ],
   "source": [
    "torch.manual_seed(1337)\n",
    "batch_size = 4\n",
    "blk_size = 8\n",
    "\n",
    "def get_batch(split):\n",
    "    data = train if split == 'train' else val\n",
    "    indices = torch.randint((len(data) - blk_size), (batch_size,))\n",
    "    x = torch.stack([data[i:i+blk_size] for i in indices])\n",
    "    y = torch.stack([data[i+1:i+blk_size+1] for i in indices])\n",
    "    return x, y\n",
    "\n",
    "x,y = get_batch('train')\n",
    "\n",
    "x.shape,y.shape,x,y"
   ]
  },
  {
   "cell_type": "code",
   "execution_count": 9,
   "id": "bc036ebf-5727-4409-848a-6525af48aed2",
   "metadata": {},
   "outputs": [
    {
     "name": "stdout",
     "output_type": "stream",
     "text": [
      "context:tensor([24]) target: 43\n",
      "\n",
      "context:tensor([24, 43]) target: 58\n",
      "\n",
      "context:tensor([24, 43, 58]) target: 5\n",
      "\n",
      "context:tensor([24, 43, 58,  5]) target: 57\n",
      "\n",
      "context:tensor([24, 43, 58,  5, 57]) target: 1\n",
      "\n",
      "context:tensor([24, 43, 58,  5, 57,  1]) target: 46\n",
      "\n",
      "context:tensor([24, 43, 58,  5, 57,  1, 46]) target: 43\n",
      "\n",
      "context:tensor([24, 43, 58,  5, 57,  1, 46, 43]) target: 39\n",
      "\n",
      "context:tensor([44]) target: 53\n",
      "\n",
      "context:tensor([44, 53]) target: 56\n",
      "\n",
      "context:tensor([44, 53, 56]) target: 1\n",
      "\n",
      "context:tensor([44, 53, 56,  1]) target: 58\n",
      "\n",
      "context:tensor([44, 53, 56,  1, 58]) target: 46\n",
      "\n",
      "context:tensor([44, 53, 56,  1, 58, 46]) target: 39\n",
      "\n",
      "context:tensor([44, 53, 56,  1, 58, 46, 39]) target: 58\n",
      "\n",
      "context:tensor([44, 53, 56,  1, 58, 46, 39, 58]) target: 1\n",
      "\n",
      "context:tensor([52]) target: 58\n",
      "\n",
      "context:tensor([52, 58]) target: 1\n",
      "\n",
      "context:tensor([52, 58,  1]) target: 58\n",
      "\n",
      "context:tensor([52, 58,  1, 58]) target: 46\n",
      "\n",
      "context:tensor([52, 58,  1, 58, 46]) target: 39\n",
      "\n",
      "context:tensor([52, 58,  1, 58, 46, 39]) target: 58\n",
      "\n",
      "context:tensor([52, 58,  1, 58, 46, 39, 58]) target: 1\n",
      "\n",
      "context:tensor([52, 58,  1, 58, 46, 39, 58,  1]) target: 46\n",
      "\n",
      "context:tensor([25]) target: 17\n",
      "\n",
      "context:tensor([25, 17]) target: 27\n",
      "\n",
      "context:tensor([25, 17, 27]) target: 10\n",
      "\n",
      "context:tensor([25, 17, 27, 10]) target: 0\n",
      "\n",
      "context:tensor([25, 17, 27, 10,  0]) target: 21\n",
      "\n",
      "context:tensor([25, 17, 27, 10,  0, 21]) target: 1\n",
      "\n",
      "context:tensor([25, 17, 27, 10,  0, 21,  1]) target: 54\n",
      "\n",
      "context:tensor([25, 17, 27, 10,  0, 21,  1, 54]) target: 39\n",
      "\n"
     ]
    }
   ],
   "source": [
    "for _ in range(batch_size):\n",
    "    get_targets(x[_],y[_],len(x[_]))\n",
    "    "
   ]
  },
  {
   "cell_type": "code",
   "execution_count": 10,
   "id": "841b241d-4572-4839-accd-89338e097855",
   "metadata": {},
   "outputs": [],
   "source": [
    "import torch.nn as nn\n",
    "from torch.nn import functional as f"
   ]
  },
  {
   "cell_type": "code",
   "execution_count": 31,
   "id": "4cea2d69-dba3-41cd-9bb2-c5557c315908",
   "metadata": {},
   "outputs": [
    {
     "name": "stdout",
     "output_type": "stream",
     "text": [
      "torch.Size([1, 1, 65])\n",
      "tensor([[ 0.1808, -0.0700, -0.3596, -0.9152,  0.6258,  0.0255,  0.9545,  0.0643,\n",
      "          0.3612,  1.1679, -1.3499, -0.5102,  0.2360, -0.2398, -0.9211,  1.5433,\n",
      "          1.3488, -0.1396,  0.2858,  0.9651, -2.0371,  0.4931,  1.4870,  0.5910,\n",
      "          0.1260, -1.5627, -1.1601, -0.3348,  0.4478, -0.8016,  1.5236,  2.5086,\n",
      "         -0.6631, -0.2513,  1.0101,  0.1215,  0.1584,  1.1340, -1.1539, -0.2984,\n",
      "         -0.5075, -0.9239,  0.5467, -1.4948, -1.2057,  0.5718, -0.5974, -0.6937,\n",
      "          1.6455, -0.8030,  1.3514, -0.2759, -1.5108,  2.1048,  2.7630, -1.7465,\n",
      "          1.4516, -1.5103,  0.8212, -0.2115,  0.7789,  1.5333,  1.6097, -0.4032,\n",
      "         -0.8345]], grad_fn=<SliceBackward0>)\n",
      "torch.Size([1, 2, 65])\n",
      "tensor([[-1.0699, -0.6119, -0.4034,  0.3025,  0.6852, -1.0045, -1.0104, -1.0886,\n",
      "          1.3292,  0.5912, -1.1082, -1.2869, -0.8170,  0.9682,  1.6030, -0.0726,\n",
      "         -0.4725, -1.1616,  0.5962,  1.3058, -0.7422, -1.2529,  0.6750,  1.5664,\n",
      "         -0.9238, -0.0956, -1.5452, -0.1801,  3.1838, -0.1277,  0.0910,  0.5422,\n",
      "         -0.6110,  0.5220,  2.1368, -1.4166, -0.8557,  1.0129,  0.6503,  0.2432,\n",
      "          1.2588, -0.0644, -0.9707, -0.4880, -0.2550, -0.4089, -0.7687,  1.0953,\n",
      "          1.5294, -1.2395,  1.0547,  0.5108,  0.3854, -0.8898,  1.3468,  2.3590,\n",
      "          0.1071, -1.2616,  0.7945, -0.7739, -0.1497, -0.6214,  1.0078,  0.2930,\n",
      "          0.0943]], grad_fn=<SliceBackward0>)\n",
      "torch.Size([1, 3, 65])\n",
      "tensor([[-1.5766e+00,  6.6795e-01, -1.0362e+00,  1.6007e+00, -7.1171e-01,\n",
      "         -4.6747e-01, -1.1337e+00, -1.2783e+00, -4.3894e-01, -8.6417e-01,\n",
      "          7.7469e-01, -2.7729e-01, -2.6471e-01,  1.2861e+00,  1.0044e+00,\n",
      "          2.3729e-02,  5.7260e-01, -6.5357e-01, -6.6449e-01,  2.7637e-01,\n",
      "          1.9566e+00,  1.3431e+00,  1.6737e-01, -1.2707e+00, -1.0524e+00,\n",
      "         -8.6907e-02,  5.5795e-02, -1.3323e+00, -9.5061e-01, -1.1121e+00,\n",
      "          3.6341e-01,  8.0640e-01, -2.8513e-01,  7.1068e-01, -8.2941e-02,\n",
      "          9.5442e-04,  1.0919e-01, -5.2422e-01,  8.1311e-01, -1.1475e+00,\n",
      "          1.3358e+00, -6.1025e-01,  6.5213e-02, -8.1089e-01,  1.6524e-01,\n",
      "         -2.1920e+00,  1.3500e-01,  2.0137e-01, -1.2806e+00, -9.7899e-01,\n",
      "         -7.6353e-01,  8.9813e-02, -1.5046e+00,  1.8576e+00,  1.8842e+00,\n",
      "         -1.0679e+00, -9.7165e-01, -4.3131e-01,  9.0768e-01,  2.1939e+00,\n",
      "          3.9268e-01,  4.7371e-01, -1.2814e+00, -4.7826e-01,  2.9794e-01]],\n",
      "       grad_fn=<SliceBackward0>)\n",
      "\n",
      "SKI\n"
     ]
    }
   ],
   "source": [
    "torch.manual_seed(1337)\n",
    "\n",
    "class BigramModel(nn.Module):\n",
    "    def __init__(self, vocab_size):\n",
    "        super().__init__()\n",
    "        self.embedding_table = nn.Embedding(vocab_size,vocab_size)\n",
    "        \n",
    "    def forward(self, idx, targets=None):\n",
    "        logits = self.embedding_table(idx)\n",
    "        if targets is None:\n",
    "            loss = None\n",
    "        else :\n",
    "            B,T,C = logits.shape\n",
    "            logits = logits.view(B*T,C)\n",
    "            targets = targets.view(B*T)\n",
    "            loss = f.cross_entropy(logits,targets)\n",
    "            \n",
    "        return loss,logits\n",
    "\n",
    "    def generate(self, idx, max_tokens):\n",
    "        for _ in range(max_tokens):\n",
    "            loss,logits = self(idx)\n",
    "            logits = logits[:,-1,:]           \n",
    "            probs = f.softmax(logits, dim = 1)          \n",
    "            idx_next = torch.multinomial(probs, num_samples=1)\n",
    "            idx = torch.cat((idx,idx_next), dim = 1)\n",
    "        return idx\n",
    "\n",
    "model = BigramModel(vocab_size)\n",
    "loss,logits = model(x,y)\n",
    "\n",
    "loss,logits.shape\n",
    "idx = torch.zeros((1,1), dtype = torch.long)\n",
    "print(decode(model.generate(idx,max_tokens=3)[0].tolist()))\n",
    "        "
   ]
  },
  {
   "cell_type": "code",
   "execution_count": null,
   "id": "d27c018d-09fd-493f-b157-3051e3c482aa",
   "metadata": {},
   "outputs": [],
   "source": []
  }
 ],
 "metadata": {
  "kernelspec": {
   "display_name": "Python 3 (ipykernel)",
   "language": "python",
   "name": "python3"
  },
  "language_info": {
   "codemirror_mode": {
    "name": "ipython",
    "version": 3
   },
   "file_extension": ".py",
   "mimetype": "text/x-python",
   "name": "python",
   "nbconvert_exporter": "python",
   "pygments_lexer": "ipython3",
   "version": "3.10.10"
  }
 },
 "nbformat": 4,
 "nbformat_minor": 5
}
