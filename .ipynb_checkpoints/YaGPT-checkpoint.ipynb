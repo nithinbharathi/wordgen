{
 "cells": [
  {
   "cell_type": "code",
   "execution_count": 1,
   "id": "46d4d755-c1d5-453f-9bbd-f670ad933c89",
   "metadata": {},
   "outputs": [],
   "source": [
    "with open('input.txt', 'r') as input_file:\n",
    "    text = input_file.read()"
   ]
  },
  {
   "cell_type": "code",
   "execution_count": 2,
   "id": "d6ac2bb3-b213-4d07-9844-892f65c8b1bc",
   "metadata": {},
   "outputs": [
    {
     "name": "stdout",
     "output_type": "stream",
     "text": [
      "\n",
      " !$&',-.3:;?ABCDEFGHIJKLMNOPQRSTUVWXYZabcdefghijklmnopqrstuvwxyz\n",
      "65\n"
     ]
    }
   ],
   "source": [
    "unique_chars = sorted(list(set(text)))\n",
    "vocab_size = len(unique_chars)\n",
    "print(''.join(unique_chars))\n",
    "print(len(unique_chars))"
   ]
  },
  {
   "cell_type": "code",
   "execution_count": 3,
   "id": "c69da69d-cde1-4ce7-a75e-5cd41bf5a6b9",
   "metadata": {},
   "outputs": [
    {
     "name": "stdout",
     "output_type": "stream",
     "text": [
      "[46, 43, 50, 50, 53]\n",
      "hello\n"
     ]
    }
   ],
   "source": [
    "ctoi = { char:ind for ind,char in enumerate(unique_chars)}\n",
    "itoc = {ind:char for ind,char in enumerate(unique_chars)}\n",
    "\n",
    "encode = lambda s: [ctoi[z] for z in s]\n",
    "decode = lambda i: ''.join(itoc[z] for z in i)\n",
    "\n",
    "print(encode('hello'))\n",
    "print(decode(encode('hello')))"
   ]
  },
  {
   "cell_type": "code",
   "execution_count": 4,
   "id": "d042f4fb-2bbd-4c19-be06-4dbb28996a6d",
   "metadata": {},
   "outputs": [
    {
     "name": "stderr",
     "output_type": "stream",
     "text": [
      "/Library/Frameworks/Python.framework/Versions/3.10/lib/python3.10/site-packages/tqdm/auto.py:21: TqdmWarning: IProgress not found. Please update jupyter and ipywidgets. See https://ipywidgets.readthedocs.io/en/stable/user_install.html\n",
      "  from .autonotebook import tqdm as notebook_tqdm\n"
     ]
    }
   ],
   "source": [
    "import torch\n",
    "device = 'cuda' if torch.cuda.is_available() else 'cpu'"
   ]
  },
  {
   "cell_type": "code",
   "execution_count": 5,
   "id": "92c3c4ad-32a0-4830-b3ca-12caf57dc52e",
   "metadata": {},
   "outputs": [
    {
     "data": {
      "text/plain": [
       "tensor([18, 47, 56, 57, 58,  1, 15, 47, 58, 47, 64, 43, 52, 10,  0, 14, 43, 44,\n",
       "        53, 56, 43,  1, 61, 43,  1, 54, 56, 53, 41, 43, 43, 42,  1, 39, 52, 63,\n",
       "         1, 44, 59, 56, 58, 46, 43, 56,  6,  1, 46, 43, 39, 56,  1, 51, 43,  1,\n",
       "        57, 54, 43, 39, 49,  8,  0,  0, 13, 50, 50, 10,  0, 31, 54, 43, 39, 49,\n",
       "         6,  1, 57, 54, 43, 39, 49,  8,  0,  0, 18, 47, 56, 57, 58,  1, 15, 47,\n",
       "        58, 47, 64, 43, 52, 10,  0, 37, 53, 59])"
      ]
     },
     "execution_count": 5,
     "metadata": {},
     "output_type": "execute_result"
    }
   ],
   "source": [
    "data = torch.tensor(encode(text), dtype = torch.long)\n",
    "data[:100]"
   ]
  },
  {
   "cell_type": "code",
   "execution_count": 6,
   "id": "63618755-c61b-4afc-8ff7-a9da965d4d04",
   "metadata": {},
   "outputs": [],
   "source": [
    "# train and test split. we are considering 90% of the data as our training data.\n",
    "\n",
    "factor = int(0.9 * len(data))\n",
    "train = data[:factor]\n",
    "val = data[factor:]"
   ]
  },
  {
   "cell_type": "code",
   "execution_count": 7,
   "id": "7fde04bb-7f00-4c0d-81ed-f21913dd023f",
   "metadata": {},
   "outputs": [
    {
     "name": "stdout",
     "output_type": "stream",
     "text": [
      "tensor([18, 47, 56, 57, 58,  1, 15, 47]) \n",
      "\n"
     ]
    }
   ],
   "source": [
    "blk = 8\n",
    "print(train[:blk],'\\n')\n",
    "\n",
    "def get_targets(mat, tar, block_size):\n",
    "    for _ in range(block_size):\n",
    "        context = mat[:_+1]\n",
    "        target = tar[_]\n",
    "        print(f'context:{context}',f'target: {target}\\n')\n"
   ]
  },
  {
   "cell_type": "code",
   "execution_count": 8,
   "id": "97581f65-b08e-40ff-964e-64bb0f007498",
   "metadata": {},
   "outputs": [
    {
     "data": {
      "text/plain": [
       "(torch.Size([4, 8]),\n",
       " torch.Size([4, 8]),\n",
       " tensor([[24, 43, 58,  5, 57,  1, 46, 43],\n",
       "         [44, 53, 56,  1, 58, 46, 39, 58],\n",
       "         [52, 58,  1, 58, 46, 39, 58,  1],\n",
       "         [25, 17, 27, 10,  0, 21,  1, 54]]),\n",
       " tensor([[43, 58,  5, 57,  1, 46, 43, 39],\n",
       "         [53, 56,  1, 58, 46, 39, 58,  1],\n",
       "         [58,  1, 58, 46, 39, 58,  1, 46],\n",
       "         [17, 27, 10,  0, 21,  1, 54, 39]]))"
      ]
     },
     "execution_count": 8,
     "metadata": {},
     "output_type": "execute_result"
    }
   ],
   "source": [
    "torch.manual_seed(1337)\n",
    "batch_size = 4\n",
    "blk_size = 8\n",
    "\n",
    "def get_batch(split):\n",
    "    data = train if split == 'train' else val\n",
    "    indices = torch.randint((len(data) - blk_size), (batch_size,))\n",
    "    x = torch.stack([data[i:i+blk_size] for i in indices])\n",
    "    y = torch.stack([data[i+1:i+blk_size+1] for i in indices])\n",
    "    x,y = x.to(device), y.to(device)\n",
    "    return x, y\n",
    "\n",
    "x,y = get_batch('train')\n",
    "\n",
    "x.shape,y.shape,x,y"
   ]
  },
  {
   "cell_type": "code",
   "execution_count": 9,
   "id": "bc036ebf-5727-4409-848a-6525af48aed2",
   "metadata": {},
   "outputs": [
    {
     "name": "stdout",
     "output_type": "stream",
     "text": [
      "context:tensor([24]) target: 43\n",
      "\n",
      "context:tensor([24, 43]) target: 58\n",
      "\n",
      "context:tensor([24, 43, 58]) target: 5\n",
      "\n",
      "context:tensor([24, 43, 58,  5]) target: 57\n",
      "\n",
      "context:tensor([24, 43, 58,  5, 57]) target: 1\n",
      "\n",
      "context:tensor([24, 43, 58,  5, 57,  1]) target: 46\n",
      "\n",
      "context:tensor([24, 43, 58,  5, 57,  1, 46]) target: 43\n",
      "\n",
      "context:tensor([24, 43, 58,  5, 57,  1, 46, 43]) target: 39\n",
      "\n",
      "context:tensor([44]) target: 53\n",
      "\n",
      "context:tensor([44, 53]) target: 56\n",
      "\n",
      "context:tensor([44, 53, 56]) target: 1\n",
      "\n",
      "context:tensor([44, 53, 56,  1]) target: 58\n",
      "\n",
      "context:tensor([44, 53, 56,  1, 58]) target: 46\n",
      "\n",
      "context:tensor([44, 53, 56,  1, 58, 46]) target: 39\n",
      "\n",
      "context:tensor([44, 53, 56,  1, 58, 46, 39]) target: 58\n",
      "\n",
      "context:tensor([44, 53, 56,  1, 58, 46, 39, 58]) target: 1\n",
      "\n",
      "context:tensor([52]) target: 58\n",
      "\n",
      "context:tensor([52, 58]) target: 1\n",
      "\n",
      "context:tensor([52, 58,  1]) target: 58\n",
      "\n",
      "context:tensor([52, 58,  1, 58]) target: 46\n",
      "\n",
      "context:tensor([52, 58,  1, 58, 46]) target: 39\n",
      "\n",
      "context:tensor([52, 58,  1, 58, 46, 39]) target: 58\n",
      "\n",
      "context:tensor([52, 58,  1, 58, 46, 39, 58]) target: 1\n",
      "\n",
      "context:tensor([52, 58,  1, 58, 46, 39, 58,  1]) target: 46\n",
      "\n",
      "context:tensor([25]) target: 17\n",
      "\n",
      "context:tensor([25, 17]) target: 27\n",
      "\n",
      "context:tensor([25, 17, 27]) target: 10\n",
      "\n",
      "context:tensor([25, 17, 27, 10]) target: 0\n",
      "\n",
      "context:tensor([25, 17, 27, 10,  0]) target: 21\n",
      "\n",
      "context:tensor([25, 17, 27, 10,  0, 21]) target: 1\n",
      "\n",
      "context:tensor([25, 17, 27, 10,  0, 21,  1]) target: 54\n",
      "\n",
      "context:tensor([25, 17, 27, 10,  0, 21,  1, 54]) target: 39\n",
      "\n"
     ]
    }
   ],
   "source": [
    "for _ in range(batch_size):\n",
    "    get_targets(x[_],y[_],len(x[_]))\n",
    "    "
   ]
  },
  {
   "cell_type": "code",
   "execution_count": 23,
   "id": "841b241d-4572-4839-accd-89338e097855",
   "metadata": {},
   "outputs": [],
   "source": [
    "import torch.nn as nn\n",
    "from torch.nn import functional as f\n",
    "n_embd = 32"
   ]
  },
  {
   "cell_type": "code",
   "execution_count": 64,
   "id": "3892e95e-08a3-417b-9eac-058fdb8a07ad",
   "metadata": {},
   "outputs": [],
   "source": [
    "#single head of self attention\n",
    "\n",
    "class Head(nn.Module):\n",
    "    def __init__(self, head_size):\n",
    "        super().__init__()\n",
    "        self.key = nn.Linear(n_embd,head_size,bias = False)\n",
    "        self. query = nn.Linear(n_embd,head_size,bias = False)\n",
    "        self.value = nn.Linear(n_embd,head_size,bias = False)\n",
    "        self.register_buffer('tril',torch.tril(torch.ones(blk_size,blk_size)))\n",
    "\n",
    "    def forward(self, x):\n",
    "        a,b,c = x.shape\n",
    "        k = self.key(x)\n",
    "        q = self.query(x)\n",
    "        v = self.value(x)\n",
    "        \n",
    "        z = q @ k.transpose(-2, -1) * c** -0.5\n",
    "        z = z.masked_fill(self.tril[:b,:b] == 0, float('-inf'))\n",
    "        z = f.softmax(z,dim = -1)\n",
    "        out = z@v\n",
    "\n",
    "        return out\n",
    "        "
   ]
  },
  {
   "cell_type": "code",
   "execution_count": 80,
   "id": "6e5d4efc-d2f9-434b-a42b-bc4aec4a58b8",
   "metadata": {},
   "outputs": [],
   "source": [
    "class MultiHeadAttention(nn.Module):\n",
    "    def __init__(self, num_heads, head_size):\n",
    "        super().__init__()\n",
    "        self.heads = nn.ModuleList([Head(head_size) for _ in range(num_heads)])\n",
    "        self.projection = nn.Linear(n_embd,n_embd)\n",
    "\n",
    "    def forward(self, x):\n",
    "        out = torch.cat([h(x) for h in self.heads],dim = -1)\n",
    "        out = self.projection(out)\n",
    "        \n",
    "        return out\n",
    "        "
   ]
  },
  {
   "cell_type": "code",
   "execution_count": 81,
   "id": "9445a8e3-31c4-48b3-9f44-1ee3b81fbb31",
   "metadata": {},
   "outputs": [],
   "source": [
    "class FeedForward(nn.Module):\n",
    "    def __init__(self, n_embd):\n",
    "        super().__init__()\n",
    "        self.net = nn.Sequential(\n",
    "            nn.Linear(n_embd, 4*n_embd),\n",
    "            nn.ReLU(),\n",
    "            nn.Linear(4*n_embd,n_embd)\n",
    "        )\n",
    "\n",
    "    def forward(self, x):\n",
    "        return self.net(x)"
   ]
  },
  {
   "cell_type": "code",
   "execution_count": 82,
   "id": "aa456a00-86f4-4935-9ebf-25c76727aab5",
   "metadata": {},
   "outputs": [],
   "source": [
    "class Block(nn.Module):\n",
    "    def __init__(self, n_embd, n_heads):\n",
    "        super().__init__()\n",
    "        head_size = n_embd//n_heads\n",
    "        self.sa = MultiHeadAttention(n_heads, head_size)\n",
    "        self.ff = FeedForward(n_embd)\n",
    "        self.ln1 = nn.LayerNorm(n_embd,n_embd)       \n",
    "        self.ln2 = nn.LayerNorm(n_embd,n_embd)\n",
    "\n",
    "    def forward(self, x):\n",
    "        x = x + self.sa(self.ln1(x))\n",
    "        x = x + self.ff(self.ln2(x))\n",
    "        return x\n",
    "        "
   ]
  },
  {
   "cell_type": "code",
   "execution_count": 86,
   "id": "4cea2d69-dba3-41cd-9bb2-c5557c315908",
   "metadata": {},
   "outputs": [
    {
     "name": "stdout",
     "output_type": "stream",
     "text": [
      "tensor([[ 0, 12,  0, 44, 55, 10, 64, 48, 12]])\n",
      "\n",
      "yVnq;O:$\n"
     ]
    }
   ],
   "source": [
    "torch.manual_seed(1337)\n",
    "\n",
    "class BigramModel(nn.Module):\n",
    "    def __init__(self):\n",
    "        super().__init__()\n",
    "        self.embedding_table = nn.Embedding(vocab_size, n_embd)\n",
    "        self.pos_embedding_table = nn.Embedding(blk_size, n_embd)\n",
    "        # self.sa_head = Head(n_embd)\n",
    "        \n",
    "        # self.sa_heads = MultiHeadAttention(4, n_embd//4)     \n",
    "        #self.ff = FeedForward(n_embd)\n",
    "\n",
    "        self.blocks = nn.Sequential(\n",
    "            Block(n_embd, n_heads = 4),\n",
    "            Block(n_embd, n_heads = 4),\n",
    "            Block(n_embd, n_heads = 4),\n",
    "            nn.LayerNorm(n_embd,vocab_size)         \n",
    "        )\n",
    "        \n",
    "        self.lm_head = nn.Linear(n_embd, vocab_size)\n",
    "        \n",
    "    def forward(self, idx, targets=None):\n",
    "        B,T = idx.shape\n",
    "        token_embd = self.embedding_table(idx)\n",
    "        pos_embd = self.pos_embedding_table(torch.arange(T,device = device))\n",
    "        x = token_embd+pos_embd\n",
    "        #x = self.sa_heads(x)\n",
    "        #x = self.ff(x)\n",
    "        x = self.blocks(x)\n",
    "        \n",
    "        logits = self.lm_head(x)\n",
    "        \n",
    "        if targets is None:\n",
    "            loss = None\n",
    "        else :\n",
    "            B,T,C = logits.shape\n",
    "            logits = logits.view(B*T,C)\n",
    "            targets = targets.view(B*T)\n",
    "            loss = f.cross_entropy(logits,targets)\n",
    "            \n",
    "        return loss,logits\n",
    "\n",
    "    def generate(self, idx, max_tokens):\n",
    "        for _ in range(max_tokens):\n",
    "            idx_ = idx[:,-blk_size:]\n",
    "            loss,logits = self(idx)\n",
    "            logits = logits[:,-1,:]  \n",
    "            probs = f.softmax(logits, dim = 1)          \n",
    "            idx_next = torch.multinomial(probs, num_samples=1)\n",
    "            idx = torch.cat((idx,idx_next), dim = 1)\n",
    "        return idx\n",
    "\n",
    "model = BigramModel()\n",
    "model = model.to(device)\n",
    "\n",
    "idx = torch.zeros((1,1), dtype = torch.long, device = device)\n",
    "print(model.generate(idx,max_tokens=8))\n",
    "print(decode(model.generate(idx,max_tokens=8)[0].tolist()))\n",
    "        "
   ]
  },
  {
   "cell_type": "code",
   "execution_count": 87,
   "id": "d27c018d-09fd-493f-b157-3051e3c482aa",
   "metadata": {},
   "outputs": [],
   "source": [
    "optimizer = torch.optim.AdamW(model.parameters(), lr = 1e-3)"
   ]
  },
  {
   "cell_type": "code",
   "execution_count": 88,
   "id": "5a2878e2-d7d4-47b3-8586-8fa60a0cad9e",
   "metadata": {},
   "outputs": [
    {
     "name": "stdout",
     "output_type": "stream",
     "text": [
      "1.9110002517700195\n"
     ]
    }
   ],
   "source": [
    "batch_size = 32;\n",
    "\n",
    "for _ in range(5000):\n",
    "    x,y = get_batch('train')\n",
    "    loss,logits = model(x,y)\n",
    "    \n",
    "    optimizer.zero_grad(set_to_none = True)\n",
    "    loss.backward()\n",
    "    optimizer.step()\n",
    "\n",
    "print(loss.item())"
   ]
  },
  {
   "cell_type": "code",
   "execution_count": 30,
   "id": "eccca093-0106-4fb8-bfc5-7d55666ed7e9",
   "metadata": {},
   "outputs": [
    {
     "data": {
      "text/plain": [
       "tensor([[[ 0.1808, -0.0700, -0.3596,  ..., -0.8016,  1.5236,  2.5086],\n",
       "         [-0.6631, -0.2513,  1.0101,  ...,  1.5333,  1.6097, -0.4032],\n",
       "         [-0.8345,  0.5978, -0.0514,  ..., -0.4370, -1.0012, -0.4094],\n",
       "         ...,\n",
       "         [-0.8961,  0.0662, -0.0563,  ...,  2.1382,  0.5114,  1.2191],\n",
       "         [ 0.1910, -0.3425,  1.7955,  ...,  0.3699, -0.5556, -0.3983],\n",
       "         [-0.5819, -0.2208,  0.0135,  ..., -1.9079, -0.5276,  1.0807]],\n",
       "\n",
       "        [[ 0.4562, -1.0917, -0.8207,  ...,  0.0512, -0.6576, -2.5729],\n",
       "         [ 0.0210,  1.0060, -1.2492,  ...,  0.7859, -1.1501,  1.3132],\n",
       "         [ 2.2007, -0.2195,  0.5427,  ..., -0.6445,  1.0834, -0.7995],\n",
       "         ...,\n",
       "         [ 0.3091,  1.1661, -2.1821,  ...,  0.6151,  0.6763,  0.6228],\n",
       "         [ 0.0943, -0.3156,  0.7850,  ..., -1.5735,  1.3876,  0.7251],\n",
       "         [ 0.6455, -0.3313, -1.0390,  ...,  0.0895, -0.3748, -0.4781]],\n",
       "\n",
       "        [[-0.6067,  1.8328,  0.2931,  ...,  1.0041,  0.8656,  0.1688],\n",
       "         [-0.2352, -0.2586,  0.0131,  ...,  0.6690,  0.7535, -0.5359],\n",
       "         [-1.0277,  0.5347, -0.7958,  ...,  1.0711,  0.4901, -0.4876],\n",
       "         ...,\n",
       "         [-0.6896, -0.7080, -0.3152,  ..., -2.0662, -1.1418, -0.1391],\n",
       "         [ 1.0827,  1.1522,  0.5198,  ...,  0.4970,  0.0585,  0.1033],\n",
       "         [ 0.0720,  1.1080,  0.7293,  ...,  0.3967, -0.9755,  0.5122]],\n",
       "\n",
       "        [[ 0.3330,  1.0995,  0.4034,  ...,  1.6634, -0.4718,  0.5857],\n",
       "         [-0.9579,  0.9435, -2.1992,  ..., -0.7296,  0.1653, -0.3390],\n",
       "         [ 1.5416,  1.0231,  1.3392,  ..., -0.0433, -0.2505, -0.7493],\n",
       "         ...,\n",
       "         [ 0.7450,  0.7170,  1.2668,  ...,  1.9359,  2.0350,  2.0187],\n",
       "         [ 0.0323, -0.6337,  0.2938,  ..., -0.3297, -0.0192,  0.9225],\n",
       "         [ 0.9187,  0.2998,  0.6106,  ...,  0.8282, -0.4826,  1.8330]]])"
      ]
     },
     "execution_count": 30,
     "metadata": {},
     "output_type": "execute_result"
    }
   ],
   "source": [
    "torch.manual_seed(1337)\n",
    "a,b,c = 4,8,32\n",
    "x = torch.randn(a,b,c)\n",
    "x"
   ]
  },
  {
   "cell_type": "code",
   "execution_count": 16,
   "id": "68de291a-10a6-4791-bb76-552be7b14621",
   "metadata": {},
   "outputs": [
    {
     "data": {
      "text/plain": [
       "tensor([[ 0.1808, -0.0700],\n",
       "        [-0.0894, -0.4926],\n",
       "        [ 0.1490, -0.3199],\n",
       "        [ 0.3504, -0.2238],\n",
       "        [ 0.3525,  0.0545],\n",
       "        [ 0.0688, -0.0396],\n",
       "        [ 0.0927, -0.0682],\n",
       "        [-0.0341,  0.1332]])"
      ]
     },
     "execution_count": 16,
     "metadata": {},
     "output_type": "execute_result"
    }
   ],
   "source": [
    "#brute force\n",
    "res1 = torch.zeros(a,b,c)\n",
    "for row in range(a):\n",
    "    for col in range(b):\n",
    "        prev = x[row,:col+1]\n",
    "        mean = torch.mean(prev, dim = 0)\n",
    "        res1[row,col] = mean\n",
    "res1[0]"
   ]
  },
  {
   "cell_type": "code",
   "execution_count": 17,
   "id": "8561ea1c-738e-456f-a225-69978b282918",
   "metadata": {},
   "outputs": [
    {
     "data": {
      "text/plain": [
       "tensor([[ 0.1808, -0.0700],\n",
       "        [-0.0894, -0.4926],\n",
       "        [ 0.1490, -0.3199],\n",
       "        [ 0.3504, -0.2238],\n",
       "        [ 0.3525,  0.0545],\n",
       "        [ 0.0688, -0.0396],\n",
       "        [ 0.0927, -0.0682],\n",
       "        [-0.0341,  0.1332]])"
      ]
     },
     "execution_count": 17,
     "metadata": {},
     "output_type": "execute_result"
    }
   ],
   "source": [
    "# vectorized\n",
    "tril = torch.tril(torch.ones(b,b))\n",
    "t = tril/torch.sum(tril,dim = 1,keepdims = True)\n",
    "res2  = t@x\n",
    "res2[0]"
   ]
  },
  {
   "cell_type": "code",
   "execution_count": 18,
   "id": "647ba000-a2e7-44ad-821e-a1ded31d7f8c",
   "metadata": {},
   "outputs": [
    {
     "data": {
      "text/plain": [
       "True"
      ]
     },
     "execution_count": 18,
     "metadata": {},
     "output_type": "execute_result"
    }
   ],
   "source": [
    "torch.allclose(res1,res2)"
   ]
  },
  {
   "cell_type": "code",
   "execution_count": 19,
   "id": "156b85e3-b7f6-411c-ad5d-e109e7060c4c",
   "metadata": {},
   "outputs": [
    {
     "data": {
      "text/plain": [
       "True"
      ]
     },
     "execution_count": 19,
     "metadata": {},
     "output_type": "execute_result"
    }
   ],
   "source": [
    "# alternative approach used in soft attention\n",
    "\n",
    "z = torch.zeros((b,b))\n",
    "z = z.masked_fill(tril == 0, float('-inf'))\n",
    "soft_max = f.softmax(z,dim = -1)\n",
    "res3 = soft_max @ x\n",
    "\n",
    "torch.allclose(res2,res3)"
   ]
  },
  {
   "cell_type": "code",
   "execution_count": 53,
   "id": "e88e85bc-161b-4288-b549-2643b2f777d6",
   "metadata": {},
   "outputs": [
    {
     "data": {
      "text/plain": [
       "torch.Size([4, 8, 16])"
      ]
     },
     "execution_count": 53,
     "metadata": {},
     "output_type": "execute_result"
    }
   ],
   "source": [
    "# self attention for a single head. differen tokens find different other tokens interesting. it is data depenent so we want to gather information from the\n",
    "# past but it has to be data dependent.\n",
    "\n",
    "# single head in self attention\n",
    "\n",
    "torch.manual_seed(1337)\n",
    "a,b,c = 4,8,32\n",
    "x = torch.randn(a,b,c)\n",
    "head_size = 16\n",
    "\n",
    "key = nn.Linear(c, head_size, bias = False)\n",
    "query = nn.Linear(c, head_size, bias = False)\n",
    "value = nn.Linear(c, head_size, bias = False)\n",
    "\n",
    "k = key(x)\n",
    "q = query(x)\n",
    "v = query(x)\n",
    "\n",
    "z = q @ k.transpose(-2,-1)\n",
    "tril = torch.tril(torch.ones(b,b))\n",
    "#z = torch.zeros((b,b))\n",
    "z = z.masked_fill(tril == 0, float('-inf'))\n",
    "z = f.softmax(z,dim = -1)\n",
    "res4 = z @ v\n",
    "res4.shape"
   ]
  },
  {
   "cell_type": "code",
   "execution_count": 54,
   "id": "8b1d1cb9-6e9a-47e6-9083-757c68c97b61",
   "metadata": {},
   "outputs": [
    {
     "data": {
      "text/plain": [
       "tensor([[[1.0000, 0.0000, 0.0000, 0.0000, 0.0000, 0.0000, 0.0000, 0.0000],\n",
       "         [0.1574, 0.8426, 0.0000, 0.0000, 0.0000, 0.0000, 0.0000, 0.0000],\n",
       "         [0.2088, 0.1646, 0.6266, 0.0000, 0.0000, 0.0000, 0.0000, 0.0000],\n",
       "         [0.5792, 0.1187, 0.1889, 0.1131, 0.0000, 0.0000, 0.0000, 0.0000],\n",
       "         [0.0294, 0.1052, 0.0469, 0.0276, 0.7909, 0.0000, 0.0000, 0.0000],\n",
       "         [0.0176, 0.2689, 0.0215, 0.0089, 0.6812, 0.0019, 0.0000, 0.0000],\n",
       "         [0.1691, 0.4066, 0.0438, 0.0416, 0.1048, 0.2012, 0.0329, 0.0000],\n",
       "         [0.0210, 0.0843, 0.0555, 0.2297, 0.0573, 0.0709, 0.2423, 0.2391]],\n",
       "\n",
       "        [[1.0000, 0.0000, 0.0000, 0.0000, 0.0000, 0.0000, 0.0000, 0.0000],\n",
       "         [0.1687, 0.8313, 0.0000, 0.0000, 0.0000, 0.0000, 0.0000, 0.0000],\n",
       "         [0.2477, 0.0514, 0.7008, 0.0000, 0.0000, 0.0000, 0.0000, 0.0000],\n",
       "         [0.4410, 0.0957, 0.3747, 0.0887, 0.0000, 0.0000, 0.0000, 0.0000],\n",
       "         [0.0069, 0.0456, 0.0300, 0.7748, 0.1427, 0.0000, 0.0000, 0.0000],\n",
       "         [0.0660, 0.0892, 0.0413, 0.6316, 0.1649, 0.0069, 0.0000, 0.0000],\n",
       "         [0.0396, 0.2288, 0.0090, 0.2000, 0.2061, 0.1949, 0.1217, 0.0000],\n",
       "         [0.3650, 0.0474, 0.0767, 0.0293, 0.3084, 0.0784, 0.0455, 0.0493]],\n",
       "\n",
       "        [[1.0000, 0.0000, 0.0000, 0.0000, 0.0000, 0.0000, 0.0000, 0.0000],\n",
       "         [0.4820, 0.5180, 0.0000, 0.0000, 0.0000, 0.0000, 0.0000, 0.0000],\n",
       "         [0.1705, 0.4550, 0.3745, 0.0000, 0.0000, 0.0000, 0.0000, 0.0000],\n",
       "         [0.0074, 0.7444, 0.0477, 0.2005, 0.0000, 0.0000, 0.0000, 0.0000],\n",
       "         [0.8359, 0.0416, 0.0525, 0.0580, 0.0119, 0.0000, 0.0000, 0.0000],\n",
       "         [0.1195, 0.2061, 0.1019, 0.1153, 0.1814, 0.2758, 0.0000, 0.0000],\n",
       "         [0.0065, 0.0589, 0.0372, 0.3063, 0.1325, 0.3209, 0.1378, 0.0000],\n",
       "         [0.1416, 0.1519, 0.0384, 0.1643, 0.1207, 0.1254, 0.0169, 0.2408]],\n",
       "\n",
       "        [[1.0000, 0.0000, 0.0000, 0.0000, 0.0000, 0.0000, 0.0000, 0.0000],\n",
       "         [0.6369, 0.3631, 0.0000, 0.0000, 0.0000, 0.0000, 0.0000, 0.0000],\n",
       "         [0.2586, 0.7376, 0.0038, 0.0000, 0.0000, 0.0000, 0.0000, 0.0000],\n",
       "         [0.4692, 0.3440, 0.1237, 0.0631, 0.0000, 0.0000, 0.0000, 0.0000],\n",
       "         [0.1865, 0.4680, 0.0353, 0.1854, 0.1248, 0.0000, 0.0000, 0.0000],\n",
       "         [0.0828, 0.7479, 0.0017, 0.0735, 0.0712, 0.0228, 0.0000, 0.0000],\n",
       "         [0.0522, 0.0517, 0.0961, 0.0375, 0.1024, 0.5730, 0.0872, 0.0000],\n",
       "         [0.0306, 0.2728, 0.0333, 0.1409, 0.1414, 0.0582, 0.0825, 0.2402]]],\n",
       "       grad_fn=<SoftmaxBackward0>)"
      ]
     },
     "execution_count": 54,
     "metadata": {},
     "output_type": "execute_result"
    }
   ],
   "source": [
    "z"
   ]
  },
  {
   "cell_type": "code",
   "execution_count": 58,
   "id": "59251331-b12c-45cb-bb25-50cd1fee3163",
   "metadata": {},
   "outputs": [],
   "source": [
    "# reason for diving by square or scaled attention. why is it done? to preserve the variance and why is this required? because we want \n",
    "# z to not be biased or extreme during initizzliating and we will aggregate info only from a single node(the max).\n",
    "\n",
    "k = torch.randn(a,b, head_size)\n",
    "q = torch.randn(a,b, head_size)\n",
    "z = q @ k.transpose(-2,-1) * head_size ** -0.5"
   ]
  },
  {
   "cell_type": "code",
   "execution_count": 59,
   "id": "ff0926e9-f74e-4c30-b7f8-d5327d7b4222",
   "metadata": {},
   "outputs": [
    {
     "data": {
      "text/plain": [
       "(tensor(0.9006), tensor(1.0037), tensor(0.9957))"
      ]
     },
     "execution_count": 59,
     "metadata": {},
     "output_type": "execute_result"
    }
   ],
   "source": [
    "k.var(),q.var(),z.var()"
   ]
  },
  {
   "cell_type": "code",
   "execution_count": null,
   "id": "a5623a01-cb98-479a-9f4d-51a7ff4af738",
   "metadata": {},
   "outputs": [],
   "source": []
  }
 ],
 "metadata": {
  "kernelspec": {
   "display_name": "Python 3 (ipykernel)",
   "language": "python",
   "name": "python3"
  },
  "language_info": {
   "codemirror_mode": {
    "name": "ipython",
    "version": 3
   },
   "file_extension": ".py",
   "mimetype": "text/x-python",
   "name": "python",
   "nbconvert_exporter": "python",
   "pygments_lexer": "ipython3",
   "version": "3.10.10"
  }
 },
 "nbformat": 4,
 "nbformat_minor": 5
}
